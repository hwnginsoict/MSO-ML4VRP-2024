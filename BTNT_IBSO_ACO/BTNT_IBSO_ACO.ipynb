{
 "cells": [
  {
   "cell_type": "code",
   "execution_count": 1,
   "metadata": {},
   "outputs": [],
   "source": [
    "import matplotlib.pyplot as plt\n",
    "import numpy as np\n",
    "import math\n",
    "import random\n",
    "import copy\n",
    "from scipy.spatial.distance import cdist\n",
    "from Ant import Ant\n",
    "from ultis import *\n",
    "from Cross_Exchange import *\n",
    "from IBSO import *\n",
    "from Injection import *\n",
    "from Load_data import *\n",
    "from Local_search import *\n",
    "from Draw import *\n"
   ]
  },
  {
   "cell_type": "code",
   "execution_count": 2,
   "metadata": {},
   "outputs": [
    {
     "name": "stdout",
     "output_type": "stream",
     "text": [
      "2510.4834601517978\n",
      "2301.921839779048\n",
      "2277.3370409193867\n",
      "2154.452234214862\n",
      "Ok\n"
     ]
    },
    {
     "ename": "KeyboardInterrupt",
     "evalue": "",
     "output_type": "error",
     "traceback": [
      "\u001b[0;31m---------------------------------------------------------------------------\u001b[0m",
      "\u001b[0;31mKeyboardInterrupt\u001b[0m                         Traceback (most recent call last)",
      "Cell \u001b[0;32mIn[2], line 78\u001b[0m\n\u001b[1;32m     76\u001b[0m \u001b[39mif\u001b[39;00m np\u001b[39m.\u001b[39mrandom\u001b[39m.\u001b[39mrandom() \u001b[39m<\u001b[39m min_prob_local \u001b[39m+\u001b[39m (max_prob_local \u001b[39m-\u001b[39m min_prob_local)\u001b[39m*\u001b[39m(k\u001b[39m/\u001b[39m(max_iteration\u001b[39m-\u001b[39m\u001b[39m1\u001b[39m)):\n\u001b[1;32m     77\u001b[0m     \u001b[39mprint\u001b[39m(\u001b[39m\"\u001b[39m\u001b[39mOk\u001b[39m\u001b[39m\"\u001b[39m)\n\u001b[0;32m---> 78\u001b[0m     travel_distance, ants_route \u001b[39m=\u001b[39m local_search(ants_route, colony, n_customer)\n\u001b[1;32m     79\u001b[0m     colony\u001b[39m.\u001b[39mtravel_distance \u001b[39m=\u001b[39m travel_distance\n\u001b[1;32m     82\u001b[0m travels_2 \u001b[39m=\u001b[39m split_route(ants_route)\n",
      "File \u001b[0;32m~/Desktop/HACO with multiple Local Search/Local_search.py:199\u001b[0m, in \u001b[0;36mlocal_search\u001b[0;34m(t, colony, n_customer)\u001b[0m\n\u001b[1;32m    196\u001b[0m \u001b[39mfor\u001b[39;00m i \u001b[39min\u001b[39;00m \u001b[39mrange\u001b[39m(\u001b[39mlen\u001b[39m(t1)):\n\u001b[1;32m    197\u001b[0m     routes\u001b[39m.\u001b[39mappend(t1[i])\n\u001b[0;32m--> 199\u001b[0m routes\u001b[39m=\u001b[39msearch4(search2(search(routes)), colony, n_customer)\n\u001b[1;32m    201\u001b[0m index\u001b[39m=\u001b[39m\u001b[39m0\u001b[39m\n\u001b[1;32m    202\u001b[0m result\u001b[39m=\u001b[39m{}\n",
      "File \u001b[0;32m~/Desktop/HACO with multiple Local Search/Local_search.py:99\u001b[0m, in \u001b[0;36msearch2\u001b[0;34m(routes)\u001b[0m\n\u001b[1;32m     97\u001b[0m new_route[i]\u001b[39m.\u001b[39mpop(k)\n\u001b[1;32m     98\u001b[0m new_route[j]\u001b[39m.\u001b[39minsert(t,z)\n\u001b[0;32m---> 99\u001b[0m \u001b[39mif\u001b[39;00m cost2(new_route)\u001b[39m<\u001b[39m cost2(routes) \u001b[39mand\u001b[39;00m check(new_route[j]):\n\u001b[1;32m    100\u001b[0m     routes[i]\u001b[39m.\u001b[39mpop(k)\n\u001b[1;32m    101\u001b[0m     routes[j]\u001b[39m.\u001b[39minsert(t,z)\n",
      "File \u001b[0;32m~/Desktop/HACO with multiple Local Search/Local_search.py:42\u001b[0m, in \u001b[0;36mcost2\u001b[0;34m(route)\u001b[0m\n\u001b[1;32m     40\u001b[0m     \u001b[39mfor\u001b[39;00m i \u001b[39min\u001b[39;00m route:\n\u001b[1;32m     41\u001b[0m         \u001b[39mfor\u001b[39;00m j \u001b[39min\u001b[39;00m \u001b[39mrange\u001b[39m(\u001b[39m0\u001b[39m,\u001b[39mlen\u001b[39m(i)\u001b[39m-\u001b[39m\u001b[39m1\u001b[39m):\n\u001b[0;32m---> 42\u001b[0m             \u001b[39msum\u001b[39m\u001b[39m+\u001b[39m\u001b[39m=\u001b[39mdistance(\u001b[39mint\u001b[39m(i[j]),\u001b[39mint\u001b[39m(i[j\u001b[39m+\u001b[39m\u001b[39m1\u001b[39m]))\n\u001b[1;32m     43\u001b[0m     \u001b[39mreturn\u001b[39;00m \u001b[39msum\u001b[39m\n\u001b[1;32m     44\u001b[0m \u001b[39melse\u001b[39;00m:\n",
      "\u001b[0;31mKeyboardInterrupt\u001b[0m: "
     ]
    }
   ],
   "source": [
    "max_cap, xcoord, ycoord, demand, e_time, l_time, s_time, data = load_data()\n",
    "\n",
    "CAP=max_cap\n",
    "colony=Ant(data,CAP,0.9)\n",
    "colony.customer_cord()\n",
    "colony.euclidean_distance()\n",
    "colony.width_window()\n",
    "colony.path_pheromon()\n",
    "result = 10000\n",
    "min_prob_local = 0.005\n",
    "max_prob_local = 0.01\n",
    "p_local_search = 0.7\n",
    "max_iteration = 100\n",
    "k=0\n",
    "current = 0\n",
    "BTNT = []\n",
    "cnt = 0\n",
    "alpha = 1\n",
    "candidate_route = []\n",
    "pop_size = 50\n",
    "n_customer = len(data)\n",
    "for k in range(max_iteration):\n",
    "    current_best = 10000\n",
    "    final = []\n",
    "    final_travel = []\n",
    "    population = []\n",
    "    \n",
    "    for j in range(pop_size):\n",
    "        min_path = 100\n",
    "        index = 999\n",
    "    \n",
    "        colony.travel_distance = 0\n",
    "        ants_travels={}\n",
    "        ants_route={}\n",
    "        travels=[]\n",
    "        travels_2 = []\n",
    "        path=[1]\n",
    "        i=0\n",
    "        colony.visited_list = [1]\n",
    "        while True:\n",
    "            colony.make_candidate_list()\n",
    "            colony.choose_next_node()\n",
    "            colony.move()\n",
    "            path.append(colony.next_node)\n",
    "            travel=colony.travel\n",
    "            travels.append(travel)\n",
    "            if travel[1]==1:\n",
    "                if travel==(1,1):\n",
    "                    break\n",
    "                else:\n",
    "                    ants_travels[i]=travels\n",
    "                    ants_route[i]=path\n",
    "                    if len(path) < min_path:\n",
    "                        min_path = len(path)\n",
    "                        index = i\n",
    "                        \n",
    "                    path=[1]\n",
    "                    travels=[]\n",
    "                    i=i+1\n",
    "                    colony.current_point=1\n",
    "                    colony.capacity=CAP\n",
    "                    colony.service_time=0\n",
    "            travel=colony.travel\n",
    "            travels_2.append(travel)\n",
    "        \n",
    "\n",
    "        travel_distance, ants_route = injection(ants_route, colony, 0.3)\n",
    "        while travel_distance < colony.travel_distance:\n",
    "            colony.travel_distance = travel_distance\n",
    "            travel_distance, ants_route = injection(ants_route, colony, 0.3)\n",
    "        colony.travel_distance = travel_distance\n",
    "\n",
    "        travel_distance, ants_route = cross_exchange(ants_route, colony)\n",
    "        colony.travel_distance = travel_distance\n",
    "        \n",
    "        if np.random.random() < min_prob_local + (max_prob_local - min_prob_local)*(k/(max_iteration-1)):\n",
    "            print(\"Ok\")\n",
    "            travel_distance, ants_route = local_search(ants_route, colony, n_customer)\n",
    "            colony.travel_distance = travel_distance\n",
    "        \n",
    "\n",
    "        travels_2 = split_route(ants_route)\n",
    "       \n",
    "        \n",
    "        if colony.travel_distance < result:\n",
    "            if candidate_route != [] and k > 0:\n",
    "                colony.update_BTNT(split_route(candidate_route), candidate_distance, alpha, pop_size)\n",
    "            alpha = 1\n",
    "            result = colony.travel_distance\n",
    "            best_ant_travel = travels_2\n",
    "            final_route = ants_route\n",
    "            candidate_route = final_route.copy()\n",
    "            BTNT.append((candidate_route, colony.travel_distance))\n",
    "            print(result)\n",
    "\n",
    "        if colony.travel_distance < current_best:\n",
    "            current_best = colony.travel_distance\n",
    "            current_best_route = travels_2\n",
    "\n",
    "        population.append(ants_route)\n",
    "        final.append(travels_2)\n",
    "        final_travel.append(colony.travel_distance)\n",
    "    population, final_travel = IBSO(population, final_travel, colony, CAP)\n",
    "\n",
    "    \n",
    "    candidate_distance, candidate_route = local_search(candidate_route, colony, n_customer)\n",
    "    candidate_distance, candidate_route = injection(candidate_route, colony, 0.3)\n",
    "\n",
    "    if candidate_distance < BTNT[-1][-1]:\n",
    "        cnt = 0\n",
    "        alpha += 1\n",
    "        BTNT.append((candidate_route, candidate_distance))\n",
    "    else:\n",
    "        if cnt < 2:\n",
    "            alpha += 1\n",
    "            candidate_distance, candidate_route = local_search(candidate_route, colony, n_customer)\n",
    "            candidate_distance, candidate_route = injection(candidate_route, colony, 0.3)\n",
    "            cnt += 1\n",
    "        else:\n",
    "            cnt = 0\n",
    "\n",
    "            colony.update_BTNT(split_route(candidate_route), candidate_distance, alpha, pop_size)\n",
    "            alpha = 1\n",
    "            o = np.argsort(np.array(final_travel))[0]\n",
    "            candidate_route = population[o]\n",
    "            BTNT.append((candidate_route, final_travel[o]))\n",
    "\n",
    "\n",
    "    \n",
    "\n",
    "    final = []\n",
    "    for i in population:\n",
    "        final.append(split_route(i))\n",
    "\n",
    "    colony.update_rho()\n",
    "    for h, l in enumerate(final):  \n",
    "        colony.update_pheromon(l, final_travel[h])\n",
    "    colony.update_global(current_best_route, current_best)\n",
    "    print('Done {}, BTNT: {}'.format(k, BTNT[-1][-1]))\n",
    "                    \n",
    "\n"
   ]
  },
  {
   "cell_type": "code",
   "execution_count": null,
   "metadata": {},
   "outputs": [
    {
     "name": "stdout",
     "output_type": "stream",
     "text": [
      "1457.6974821244303\n"
     ]
    }
   ],
   "source": [
    "ants_route, travel_distance = BTNT[np.argsort(np.array([x[1] for x in BTNT]))[0]]\n",
    "travel_distance_1, ants_route = injection(ants_route, colony, 0.3)\n",
    "while travel_distance_1 < travel_distance:\n",
    "    travel_distance = travel_distance_1\n",
    "    travel_distance_1, ants_route = injection(ants_route, colony, 0.3)\n",
    "\n",
    "print(travel_distance)"
   ]
  },
  {
   "cell_type": "code",
   "execution_count": null,
   "metadata": {},
   "outputs": [],
   "source": [
    "import json \n",
    "json_data = json.dumps(ants_route, indent=0)\n",
    "\n",
    "with open('Solution.txt', 'a') as file:\n",
    "    file.write(json_data + '\\n')"
   ]
  },
  {
   "cell_type": "code",
   "execution_count": 3,
   "metadata": {},
   "outputs": [
    {
     "name": "stderr",
     "output_type": "stream",
     "text": [
      "No artists with labels found to put in legend.  Note that artists whose label start with an underscore are ignored when legend() is called with no argument.\n"
     ]
    },
    {
     "data": {
      "image/png": "[encoded data removed]",
      "text/plain": [
       "<Figure size 640x480 with 1 Axes>"
      ]
     },
     "metadata": {},
     "output_type": "display_data"
    }
   ],
   "source": [
    "draw(ants_route, colony)"
   ]
  }
 ],
 "metadata": {
  "kernelspec": {
   "display_name": "Python 3",
   "language": "python",
   "name": "python3"
  },
  "language_info": {
   "codemirror_mode": {
    "name": "ipython",
    "version": 3
   },
   "file_extension": ".py",
   "mimetype": "text/x-python",
   "name": "python",
   "nbconvert_exporter": "python",
   "pygments_lexer": "ipython3",
   "version": "3.11.4"
  },
  "orig_nbformat": 4
 },
 "nbformat": 4,
 "nbformat_minor": 2
}
